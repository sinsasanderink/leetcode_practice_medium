{
  "nbformat": 4,
  "nbformat_minor": 0,
  "metadata": {
    "colab": {
      "provenance": []
    },
    "kernelspec": {
      "name": "python3",
      "display_name": "Python 3"
    },
    "language_info": {
      "name": "python"
    }
  },
  "cells": [
    {
      "cell_type": "markdown",
      "source": [
        "# **Two Sum**"
      ],
      "metadata": {
        "id": "qzysUQ2xiTEZ"
      }
    },
    {
      "cell_type": "markdown",
      "source": [
        "\n",
        "Given an array of integers nums and an integer target, return indices of the two numbers such that they add up to target.\n",
        "\n",
        "You may assume that each input would have exactly one solution, and you may not use the same element twice.\n",
        "\n",
        "You can return the answer in any order.\n",
        "\n",
        "\n",
        "\n",
        "Example 1:\n",
        "\n",
        "Input: nums = [2,7,11,15], target = 9\n",
        "Output: [0,1]\n",
        "Explanation: Because nums[0] + nums[1] == 9, we return [0, 1].\n",
        "Example 2:\n",
        "\n",
        "Input: nums = [3,2,4], target = 6\n",
        "Output: [1,2]"
      ],
      "metadata": {
        "id": "hZwiK6hFiLKo"
      }
    },
    {
      "cell_type": "code",
      "source": [
        "nums = [2, 7, 11, 15]\n",
        "target = 9"
      ],
      "metadata": {
        "id": "dPU4u5BTjAvU"
      },
      "execution_count": null,
      "outputs": []
    },
    {
      "cell_type": "code",
      "execution_count": null,
      "metadata": {
        "colab": {
          "base_uri": "https://localhost:8080/"
        },
        "id": "fpgTuRhhiDve",
        "outputId": "fb912fa4-75dc-4642-d46c-5b81475f374c"
      },
      "outputs": [
        {
          "output_type": "stream",
          "name": "stdout",
          "text": [
            "7 2\n"
          ]
        },
        {
          "output_type": "execute_result",
          "data": {
            "text/plain": [
              "[1, 0]"
            ]
          },
          "metadata": {},
          "execution_count": 27
        }
      ],
      "source": [
        "def twoNumberSum(nums, target):\n",
        "    for i in nums:\n",
        "      j = target - i\n",
        "      if j in nums and j != i:\n",
        "        print(j, i)\n",
        "        return [nums.index(j), nums.index(i)]\n",
        "    return []\n",
        "\n",
        "twoNumberSum(nums, target)"
      ]
    },
    {
      "cell_type": "code",
      "source": [
        "nums1 = [3, 2, 4]\n",
        "target1 = 6\n",
        "twoNumberSum(nums1, target1)\n"
      ],
      "metadata": {
        "colab": {
          "base_uri": "https://localhost:8080/"
        },
        "id": "noBe4mdhkAbr",
        "outputId": "2a42cf58-c34a-472c-d79c-749fd27ff8c0"
      },
      "execution_count": null,
      "outputs": [
        {
          "output_type": "stream",
          "name": "stdout",
          "text": [
            "4 2\n"
          ]
        },
        {
          "output_type": "execute_result",
          "data": {
            "text/plain": [
              "[2, 1]"
            ]
          },
          "metadata": {},
          "execution_count": 28
        }
      ]
    },
    {
      "cell_type": "code",
      "source": [
        "s = \"anagram\"\n",
        "t = \"nagaram\""
      ],
      "metadata": {
        "id": "a5dVK2lH0L8O"
      },
      "execution_count": null,
      "outputs": []
    },
    {
      "cell_type": "code",
      "source": [
        "s = \"aacc\"\n",
        "t = \"ccac\""
      ],
      "metadata": {
        "id": "BhjopJu-1Dx-"
      },
      "execution_count": null,
      "outputs": []
    },
    {
      "cell_type": "code",
      "source": [
        "def anagram(s, t):\n",
        "    dictionary = {}\n",
        "    if len(s) != len(t):\n",
        "      return False\n",
        "\n",
        "    for letter in s:\n",
        "        dictionary[letter] = dictionary.get(letter, 0) + 1\n",
        "\n",
        "    print(dictionary)\n",
        "\n",
        "    for letter in t:\n",
        "        if letter in dictionary: # c\n",
        "            dictionary[letter] -= 1 # a: 2, c: 0\n",
        "        if letter not in dictionary or dictionary[letter] < 0:\n",
        "            return False\n",
        "    return True\n",
        "\n",
        "anagram(s, t)"
      ],
      "metadata": {
        "colab": {
          "base_uri": "https://localhost:8080/"
        },
        "id": "MkYZiP0d0Lft",
        "outputId": "2577220f-b707-4d10-aaa0-617a375949a1"
      },
      "execution_count": null,
      "outputs": [
        {
          "output_type": "stream",
          "name": "stdout",
          "text": [
            "{'a': 2, 'c': 2}\n",
            "newdict: {'a': 2, 'c': 1}\n",
            "dict[letter]: 1\n",
            "newdict: {'a': 2, 'c': 0}\n",
            "dict[letter]: 0\n",
            "newdict: {'a': 1, 'c': 0}\n",
            "dict[letter]: 1\n",
            "newdict: {'a': 1, 'c': -1}\n",
            "dict[letter]: -1\n"
          ]
        },
        {
          "output_type": "execute_result",
          "data": {
            "text/plain": [
              "False"
            ]
          },
          "metadata": {},
          "execution_count": 30
        }
      ]
    },
    {
      "cell_type": "code",
      "source": [
        "# optimal solution\n",
        "class Solution:\n",
        "    def isAnagram(self, s: str, t: str) -> bool:\n",
        "        if len(s) != len(t):\n",
        "            return False\n",
        "\n",
        "        countS, countT = {}, {}\n",
        "\n",
        "        for i in range(len(s)):\n",
        "            countS[s[i]] = 1 + countS.get(s[i], 0)\n",
        "            countT[t[i]] = 1 + countT.get(t[i], 0)\n",
        "        return countS == countT"
      ],
      "metadata": {
        "id": "3lqcJ0J54QOi"
      },
      "execution_count": null,
      "outputs": []
    },
    {
      "cell_type": "markdown",
      "source": [
        "# **Balanced Brackets**"
      ],
      "metadata": {
        "id": "YoZyPc-Zedcl"
      }
    },
    {
      "cell_type": "code",
      "source": [
        "string = \"([])(){}(())()()\""
      ],
      "metadata": {
        "id": "CiYPjrUHejn3"
      },
      "execution_count": null,
      "outputs": []
    },
    {
      "cell_type": "code",
      "source": [
        "string =  \"([])(){}(())()()\""
      ],
      "metadata": {
        "id": "hSgEtDEZx2fV"
      },
      "execution_count": null,
      "outputs": []
    },
    {
      "cell_type": "code",
      "source": [
        "def balancedBrackets(string):\n",
        "    # Write your code here.\n",
        "    # Preliminary check using dictionary\n",
        "    dict2 = {}\n",
        "    for i in string:\n",
        "        dict2[i] = dict2.get(i, 0) + 1\n",
        "\n",
        "    # Checking order using stack\n",
        "    if dict2[\"(\"] != dict2[\")\"]:\n",
        "          return False\n",
        "    if dict2[\"{\"] != dict2[\"}\"]:\n",
        "          return False\n",
        "    if dict2[\"[\"] !=  dict2[\"]\"]:\n",
        "          return False\n",
        "\n",
        "    for idx, char in enumerate(string):\n",
        "      if char == \")\":\n",
        "        subString = string[0, idx-1]\n",
        "        if \"(\" not in subString:\n",
        "          return False\n",
        "      if char == \"]\":\n",
        "        subString = string[0, idx-1]\n",
        "        if \"[\" not in subString:\n",
        "          return False\n",
        "      if char == \"}\":\n",
        "        subString = string[0, idx-1]\n",
        "        if \"{\" not in subString:\n",
        "          return False\n",
        "\n",
        "\n",
        "    return True\n",
        "balancedBrackets(string)"
      ],
      "metadata": {
        "colab": {
          "base_uri": "https://localhost:8080/",
          "height": 339
        },
        "id": "FB0IRyeqecrx",
        "outputId": "abf5b3f7-52f3-417d-b7ad-ca3ed99f2dfe"
      },
      "execution_count": null,
      "outputs": [
        {
          "output_type": "error",
          "ename": "TypeError",
          "evalue": "ignored",
          "traceback": [
            "\u001b[0;31m---------------------------------------------------------------------------\u001b[0m",
            "\u001b[0;31mTypeError\u001b[0m                                 Traceback (most recent call last)",
            "\u001b[0;32m<ipython-input-2-5c07f8e5dda1>\u001b[0m in \u001b[0;36m<cell line: 32>\u001b[0;34m()\u001b[0m\n\u001b[1;32m     30\u001b[0m \u001b[0;34m\u001b[0m\u001b[0m\n\u001b[1;32m     31\u001b[0m     \u001b[0;32mreturn\u001b[0m \u001b[0;32mTrue\u001b[0m\u001b[0;34m\u001b[0m\u001b[0;34m\u001b[0m\u001b[0m\n\u001b[0;32m---> 32\u001b[0;31m \u001b[0mbalancedBrackets\u001b[0m\u001b[0;34m(\u001b[0m\u001b[0mstring\u001b[0m\u001b[0;34m)\u001b[0m\u001b[0;34m\u001b[0m\u001b[0;34m\u001b[0m\u001b[0m\n\u001b[0m",
            "\u001b[0;32m<ipython-input-2-5c07f8e5dda1>\u001b[0m in \u001b[0;36mbalancedBrackets\u001b[0;34m(string)\u001b[0m\n\u001b[1;32m     20\u001b[0m           \u001b[0;32mreturn\u001b[0m \u001b[0;32mFalse\u001b[0m\u001b[0;34m\u001b[0m\u001b[0;34m\u001b[0m\u001b[0m\n\u001b[1;32m     21\u001b[0m       \u001b[0;32mif\u001b[0m \u001b[0mchar\u001b[0m \u001b[0;34m==\u001b[0m \u001b[0;34m\"]\"\u001b[0m\u001b[0;34m:\u001b[0m\u001b[0;34m\u001b[0m\u001b[0;34m\u001b[0m\u001b[0m\n\u001b[0;32m---> 22\u001b[0;31m         \u001b[0msubString\u001b[0m \u001b[0;34m=\u001b[0m \u001b[0mstring\u001b[0m\u001b[0;34m[\u001b[0m\u001b[0;36m0\u001b[0m\u001b[0;34m,\u001b[0m \u001b[0midx\u001b[0m\u001b[0;34m-\u001b[0m\u001b[0;36m1\u001b[0m\u001b[0;34m]\u001b[0m\u001b[0;34m\u001b[0m\u001b[0;34m\u001b[0m\u001b[0m\n\u001b[0m\u001b[1;32m     23\u001b[0m         \u001b[0;32mif\u001b[0m \u001b[0;34m\"[\"\u001b[0m \u001b[0;32mnot\u001b[0m \u001b[0;32min\u001b[0m \u001b[0msubString\u001b[0m\u001b[0;34m:\u001b[0m\u001b[0;34m\u001b[0m\u001b[0;34m\u001b[0m\u001b[0m\n\u001b[1;32m     24\u001b[0m           \u001b[0;32mreturn\u001b[0m \u001b[0;32mFalse\u001b[0m\u001b[0;34m\u001b[0m\u001b[0;34m\u001b[0m\u001b[0m\n",
            "\u001b[0;31mTypeError\u001b[0m: string indices must be integers"
          ]
        }
      ]
    },
    {
      "cell_type": "code",
      "source": [
        "# solution\n",
        "def balancedBrackets(string):\n",
        "    stack = []\n",
        "    opening_brackets = \"({[\"\n",
        "    closing_brackets = \")}]\"\n",
        "    mapping = {\")\": \"(\", \"}\": \"{\", \"]\": \"[\"}  # For easy correspondence checking\n",
        "\n",
        "    for char in string:\n",
        "        # If it's an opening bracket, push onto the stack\n",
        "        if char in opening_brackets:\n",
        "            stack.append(char)\n",
        "        # If it's a closing bracket\n",
        "        elif char in closing_brackets:\n",
        "            # If the stack is empty or the top of the stack is not the corresponding opening bracket\n",
        "            if not stack or stack[-1] != mapping[char]:\n",
        "                return False\n",
        "            stack.pop()  # Pop the opening bracket off the stack\n",
        "\n",
        "    # If the stack is empty at the end, the brackets are balanced\n",
        "    return not stack\n"
      ],
      "metadata": {
        "id": "n-TnL8itp8bP"
      },
      "execution_count": null,
      "outputs": []
    },
    {
      "cell_type": "markdown",
      "source": [
        "# **FiveSort**"
      ],
      "metadata": {
        "id": "w-dMpVSaq8wh"
      }
    },
    {
      "cell_type": "markdown",
      "source": [
        "Write a function, fiveSort, that takes in an array of numbers as an argument. The function should rearrange elements of the array such that all 5s appear at the end. Your function should perform this operation in-place by mutating the original array. The function should return the array.\n",
        "\n",
        "Elements that are not 5 can appear in any order in the output, as long as all 5s are at the end of the array."
      ],
      "metadata": {
        "id": "3qfcgEItqwEj"
      }
    },
    {
      "cell_type": "code",
      "source": [
        "array = ([12, 5, 1, 5, 12, 7])\n",
        "toMove = 5\n",
        "# [12, 7, 1, 12, 5, 5]"
      ],
      "metadata": {
        "id": "ZSC-J6sRq_4y"
      },
      "execution_count": null,
      "outputs": []
    },
    {
      "cell_type": "code",
      "source": [
        "array = [5, 2, 5, 6, 5, 1, 10, 2, 5, 5]\n",
        "toMove = 5\n",
        "# [2, 2, 10, 6, 1, 5, 5, 5, 5, 5]"
      ],
      "metadata": {
        "id": "3JW3Lf7-rFgs"
      },
      "execution_count": null,
      "outputs": []
    },
    {
      "cell_type": "code",
      "source": [
        "def fiveSport(array2):\n",
        "  toMove = 5\n",
        "  occurances = array2.count(5)\n",
        "  for i in array2:\n",
        "    if i == 5:\n",
        "      array2.remove(i)\n",
        "      array2.append(i)\n",
        "  return array2\n",
        "\n",
        "fiveSport(array2)\n"
      ],
      "metadata": {
        "colab": {
          "base_uri": "https://localhost:8080/"
        },
        "id": "DIOfBXryray4",
        "outputId": "5716466e-901f-4cfa-f494-2bc260cf1fac"
      },
      "execution_count": null,
      "outputs": [
        {
          "output_type": "execute_result",
          "data": {
            "text/plain": [
              "[2, 6, 1, 10, 2, 5, 5, 5, 5, 5]"
            ]
          },
          "metadata": {},
          "execution_count": 19
        }
      ]
    },
    {
      "cell_type": "code",
      "source": [
        "def fiveSport(array):\n",
        "  left = 0\n",
        "  right = len(array)-1\n",
        "  while left < right:\n",
        "    if array[right] == 5:\n",
        "      right -= 1\n",
        "    elif array[left] != 5:\n",
        "      left += 1\n",
        "    else:\n",
        "      array[left], array[right] = array[right], array[left]\n",
        "\n",
        "\n",
        "  return array\n",
        "\n",
        "fiveSport(array)"
      ],
      "metadata": {
        "colab": {
          "base_uri": "https://localhost:8080/"
        },
        "id": "BAsNTbOFtTne",
        "outputId": "cf9de800-df21-464b-d06a-639f15d3d7ea"
      },
      "execution_count": null,
      "outputs": [
        {
          "output_type": "execute_result",
          "data": {
            "text/plain": [
              "[2, 2, 10, 6, 1, 5, 5, 5, 5, 5]"
            ]
          },
          "metadata": {},
          "execution_count": 42
        }
      ]
    },
    {
      "cell_type": "markdown",
      "source": [
        "# **Best time to buy & sell stock**"
      ],
      "metadata": {
        "id": "6MAAsUSA4P2M"
      }
    },
    {
      "cell_type": "code",
      "source": [
        "prices = [7, 1, 5, 3, 6, 4]"
      ],
      "metadata": {
        "id": "PSVcyuhT7fOR"
      },
      "execution_count": null,
      "outputs": []
    },
    {
      "cell_type": "code",
      "source": [
        "prices = [7, 6, 4, 3, 1]"
      ],
      "metadata": {
        "id": "LvPSQvyu7_s8"
      },
      "execution_count": null,
      "outputs": []
    },
    {
      "cell_type": "code",
      "source": [
        "prices = [2, 1, 4]"
      ],
      "metadata": {
        "id": "xeaw8D--8nuV"
      },
      "execution_count": null,
      "outputs": []
    },
    {
      "cell_type": "code",
      "source": [
        "def maxProfit(prices):\n",
        "        left = 0\n",
        "        right = 1\n",
        "        maxSum = 0\n",
        "        while left < len(prices) -1 and right < len(prices):\n",
        "            currentSum = 0\n",
        "            if prices[left] < prices[right]:\n",
        "                currentSum = prices[right] - prices[left]\n",
        "                if currentSum > maxSum:\n",
        "                    maxSum = currentSum\n",
        "            if right == len(prices) -1:\n",
        "                left = right\n",
        "                right = left + 1\n",
        "            right +=1\n",
        "        return maxSum\n",
        "\n",
        "maxProfit(prices)"
      ],
      "metadata": {
        "colab": {
          "base_uri": "https://localhost:8080/"
        },
        "id": "zYxGOHv27XF6",
        "outputId": "083ac744-04f2-468d-be25-1ca074d95b1a"
      },
      "execution_count": null,
      "outputs": [
        {
          "output_type": "execute_result",
          "data": {
            "text/plain": [
              "2"
            ]
          },
          "metadata": {},
          "execution_count": 16
        }
      ]
    },
    {
      "cell_type": "code",
      "source": [
        "# O(n) squared time\n",
        "\n",
        "def maxProfit(prices):\n",
        "    left = 0\n",
        "    right = 1\n",
        "    maxSum = 0\n",
        "    while left < len(prices) - 1:\n",
        "        while right < len(prices):\n",
        "            currentSum = 0\n",
        "            if prices[left] < prices[right]:\n",
        "                currentSum = prices[right] - prices[left]\n",
        "                if currentSum > maxSum:\n",
        "                    maxSum = currentSum\n",
        "            right += 1\n",
        "        else:\n",
        "            left += 1\n",
        "            right = left + 1\n",
        "    return maxSum\n",
        "\n",
        "\n",
        "maxProfit(prices)"
      ],
      "metadata": {
        "colab": {
          "base_uri": "https://localhost:8080/"
        },
        "id": "-4uuZzRY7XIT",
        "outputId": "75bc13c4-bce9-4728-f5d2-fe0f0f736646"
      },
      "execution_count": null,
      "outputs": [
        {
          "output_type": "execute_result",
          "data": {
            "text/plain": [
              "3"
            ]
          },
          "metadata": {},
          "execution_count": 20
        }
      ]
    },
    {
      "cell_type": "code",
      "source": [
        "# O(n) time\n",
        "def maxProfit(prices):\n",
        "        maxSum = 0\n",
        "        lowest = prices[0] # 1\n",
        "        for price in prices: # 1\n",
        "            if price < lowest: # 4 < 1 > False\n",
        "                lowest = price # lowest = 1\n",
        "            maxSum = max(maxSum, price - lowest) # max(0, 4 - 1 = 3) > 0\n",
        "        return maxSum"
      ],
      "metadata": {
        "id": "frXsgEOQ9UFj",
        "colab": {
          "base_uri": "https://localhost:8080/",
          "height": 143
        },
        "outputId": "4e9d0bb8-4214-4933-eccc-6444d8308b88"
      },
      "execution_count": null,
      "outputs": [
        {
          "output_type": "error",
          "ename": "SyntaxError",
          "evalue": "ignored",
          "traceback": [
            "\u001b[0;36m  File \u001b[0;32m\"<ipython-input-6-788abed6e072>\"\u001b[0;36m, line \u001b[0;32m2\u001b[0m\n\u001b[0;31m    def maxProfit(prices)\u001b[0m\n\u001b[0m                         ^\u001b[0m\n\u001b[0;31mSyntaxError\u001b[0m\u001b[0;31m:\u001b[0m expected ':'\n"
          ]
        }
      ]
    },
    {
      "cell_type": "code",
      "source": [
        "# O(n) time\n",
        "def maxProfit(prices):\n",
        "    maxSum = 0\n",
        "    minValue = prices[0]\n",
        "    for price in prices:\n",
        "      if price < minValue:\n",
        "        minValue = price\n",
        "      maxSum = max(maxSum, price - minValue)\n",
        "    return maxSum\n",
        "\n",
        "maxProfit(prices)"
      ],
      "metadata": {
        "colab": {
          "base_uri": "https://localhost:8080/"
        },
        "id": "AzT8gWD2tzmG",
        "outputId": "7bf5a8e6-eb03-4fa1-d74c-8a72db5b0b9c"
      },
      "execution_count": null,
      "outputs": [
        {
          "output_type": "execute_result",
          "data": {
            "text/plain": [
              "5"
            ]
          },
          "metadata": {},
          "execution_count": 4
        }
      ]
    },
    {
      "cell_type": "markdown",
      "source": [
        "**Roman to Integer**"
      ],
      "metadata": {
        "id": "HNUhctN7Euwz"
      }
    },
    {
      "cell_type": "code",
      "source": [
        "s = \"MCMXCIV\""
      ],
      "metadata": {
        "id": "krevwQiBGy5K"
      },
      "execution_count": null,
      "outputs": []
    },
    {
      "cell_type": "code",
      "source": [
        "s = \"LVIII\""
      ],
      "metadata": {
        "id": "4G--maGrI7rN"
      },
      "execution_count": null,
      "outputs": []
    },
    {
      "cell_type": "code",
      "source": [
        "\n",
        "# o(n) time & space\n",
        "def romanToInt(s):\n",
        "    dictionary = {\"I\": 1, \"V\": 5, \"X\": 10, \"L\": 50, \"C\": 100, \"D\": 500, \"M\": 1000}\n",
        "\n",
        "    s = s.replace(\"IV\", \"IIII\").replace(\"IX\", \"VIIII\")\n",
        "    s = s.replace(\"XL\", \"XXXX\").replace(\"XC\", \"LXXXX\")\n",
        "    s = s.replace(\"CD\", \"CCCC\").replace(\"CM\", \"DCCCC\")\n",
        "\n",
        "    output = 0\n",
        "    for char in s:\n",
        "        output += dictionary[char]\n",
        "    return output\n",
        "\n",
        "romanToInt(s)\n",
        "\n"
      ],
      "metadata": {
        "colab": {
          "base_uri": "https://localhost:8080/"
        },
        "id": "gHCbkAL2EyWo",
        "outputId": "3fd42f3b-acfe-4b3a-9840-22abb7e34ce9"
      },
      "execution_count": null,
      "outputs": [
        {
          "output_type": "execute_result",
          "data": {
            "text/plain": [
              "1994"
            ]
          },
          "metadata": {},
          "execution_count": 11
        }
      ]
    },
    {
      "cell_type": "code",
      "source": [
        "\n",
        "# most efficient : o(n) time & O(1) space\n",
        "def romanToInt(s):\n",
        "    dictionary = {\"I\": 1, \"V\": 5, \"X\": 10, \"L\": 50, \"C\": 100, \"D\": 500, \"M\": 1000}\n",
        "\n",
        "    total = 0\n",
        "    prev_value = 0\n",
        "    for char in reversed(s):\n",
        "        current_value = dictionary[char]\n",
        "        if current_value < prev_value:\n",
        "            total -= current_value\n",
        "        else:\n",
        "            total += current_value\n",
        "        prev_value = current_value\n",
        "\n",
        "    return total"
      ],
      "metadata": {
        "id": "nokTUVNdxHzo"
      },
      "execution_count": null,
      "outputs": []
    },
    {
      "cell_type": "markdown",
      "source": [
        "**[Climbing Stairs](https://leetcode.com/problems/climbing-stairs/description/)**"
      ],
      "metadata": {
        "id": "TgYq8DwbjenW"
      }
    },
    {
      "cell_type": "code",
      "source": [
        "def climbStairs(n):\n",
        "    steps = [1, 2]\n",
        "    if n == 2:\n",
        "      return 2\n",
        "    if n == 1:\n",
        "      return 1\n",
        "    return climbStairs(n - 2) + climbStairs(n-1)\n"
      ],
      "metadata": {
        "id": "PvwmPaSKj1fr"
      },
      "execution_count": null,
      "outputs": []
    },
    {
      "cell_type": "markdown",
      "source": [
        "# **Longest Common Prefix**"
      ],
      "metadata": {
        "id": "dAEnFxymmVz4"
      }
    },
    {
      "cell_type": "code",
      "source": [
        "strings = [\"flower\", \"flow\", \"flight\"]"
      ],
      "metadata": {
        "id": "CJmQeM0Hm4wW"
      },
      "execution_count": null,
      "outputs": []
    },
    {
      "cell_type": "code",
      "source": [
        "def longestCommonPrefix(strings):\n",
        "\n",
        "    longestPrefix= \"\"\n",
        "    potLongestPrefix = min(strings, key=len)\n",
        "    idx2 = len(potLongestPrefix) - 1\n",
        "\n",
        "    if len(strings) == 0:\n",
        "      return longestPrefix\n",
        "\n",
        "    while idx2 >= 0:\n",
        "      if all(s.startswith(potLongestPrefix) for s in strings):\n",
        "        longestPrefix = potLongestPrefix\n",
        "        return longestPrefix\n",
        "      else:\n",
        "        idx2 -= 1\n",
        "        potLongestPrefix = potLongestPrefix[:idx2]\n",
        "    return longestPrefix\n",
        "\n",
        "longestCommonPrefix(strings)"
      ],
      "metadata": {
        "colab": {
          "base_uri": "https://localhost:8080/",
          "height": 35
        },
        "id": "lVaYIrNLlMyV",
        "outputId": "b3b50d8e-f643-4fd3-b360-db4842504be7"
      },
      "execution_count": null,
      "outputs": [
        {
          "output_type": "execute_result",
          "data": {
            "text/plain": [
              "'fl'"
            ],
            "application/vnd.google.colaboratory.intrinsic+json": {
              "type": "string"
            }
          },
          "metadata": {},
          "execution_count": 8
        }
      ]
    },
    {
      "cell_type": "code",
      "source": [
        "def longestCommonPrefix(strings):\n",
        "    if not strings:  # If the list is empty\n",
        "        return \"\"\n",
        "\n",
        "    potLongestPrefix = min(strings, key=len)  # shortest string as the starting point\n",
        "\n",
        "    for i in range(len(potLongestPrefix)):\n",
        "        if not all(s.startswith(potLongestPrefix) for s in strings):\n",
        "            potLongestPrefix = potLongestPrefix[:-1]  # Truncate the last character\n",
        "\n",
        "    return potLongestPrefix"
      ],
      "metadata": {
        "id": "VDrF67FST44H"
      },
      "execution_count": null,
      "outputs": []
    },
    {
      "cell_type": "code",
      "source": [
        "shortest_string = min(strings, key=len)"
      ],
      "metadata": {
        "id": "tshmE1RJPbcY"
      },
      "execution_count": null,
      "outputs": []
    },
    {
      "cell_type": "code",
      "source": [
        "strings = [\"flower\", \"flow\", \"flight\"]\n",
        "result = all(s.startswith(\"flo\") for s in strings)\n",
        "letter = \"f\"\n",
        "result2 = all(letter in s for s in strings)\n",
        "\n",
        "print(result)  # This will print True if \"flo\" is the start of every string, otherwise False\n",
        "print(result2)"
      ],
      "metadata": {
        "colab": {
          "base_uri": "https://localhost:8080/"
        },
        "id": "TG582ShZQBtt",
        "outputId": "ac60a3f5-eb7d-4360-9e48-6b6ff238e3f8"
      },
      "execution_count": null,
      "outputs": [
        {
          "output_type": "stream",
          "name": "stdout",
          "text": [
            "False\n",
            "True\n"
          ]
        }
      ]
    },
    {
      "cell_type": "code",
      "source": [
        "potLongestPrefix = \"abc\"\n",
        "potLongestPrefix = potLongestPrefix[:-1]\n",
        "print(potLongestPrefix)"
      ],
      "metadata": {
        "colab": {
          "base_uri": "https://localhost:8080/"
        },
        "id": "fNzSFX75RTVm",
        "outputId": "87f9bf01-8eb1-48de-af3d-749c3319e37d"
      },
      "execution_count": null,
      "outputs": [
        {
          "output_type": "stream",
          "name": "stdout",
          "text": [
            "ab\n"
          ]
        }
      ]
    },
    {
      "cell_type": "markdown",
      "source": [
        "# **Query strings**"
      ],
      "metadata": {
        "id": "BbSjTjb1r5As"
      }
    },
    {
      "cell_type": "markdown",
      "source": [
        "Given a query string return the parsed query.\n",
        "\n",
        "If a value is omitted by not including an = the corresponding value should be the string 'true'.\n",
        "parse('?foo');\n",
        "\n",
        "{\n",
        "  foo: \"true\"\n",
        "}\n",
        "\n",
        "If a key is repeated, each value for that key should be combined into an array of values in the order that those values appeared.\n",
        "parse(\"?foo=1&foo=2&foo=3\");\n",
        "{\n",
        "  foo: ['1', '2', '3']\n",
        "}\n",
        "\n",
        "parse('?foo=hello&bar=world');\n",
        "\n",
        "{\n",
        "  foo: 'hello',\n",
        "  bar: 'world'\n",
        "}\n",
        "\n",
        "parse(\"?foo&bar&bar=again\");\n",
        "{\n",
        "\n",
        "  foo: \"true\",\n",
        "  bar\n",
        "\n",
        "def parse(query) {}\n",
        "\n",
        "=   :\n",
        "&   ,\n",
        "?   \n",
        "?foo   True\n",
        "\n"
      ],
      "metadata": {
        "id": "9dCOyiJNr38N"
      }
    },
    {
      "cell_type": "code",
      "source": [
        "query = \"?foo=1&foo=2&foo=3\""
      ],
      "metadata": {
        "id": "8k4zdXzpH0Ko"
      },
      "execution_count": null,
      "outputs": []
    },
    {
      "cell_type": "code",
      "source": [
        "query = \"?foo=hello&bar=world\""
      ],
      "metadata": {
        "id": "AtCpZG2-7byN"
      },
      "execution_count": null,
      "outputs": []
    },
    {
      "cell_type": "code",
      "source": [
        "query = \"?foo&bar&bar=again\""
      ],
      "metadata": {
        "id": "chVwng5e7kL5"
      },
      "execution_count": null,
      "outputs": []
    },
    {
      "cell_type": "code",
      "source": [
        "def parse(query):\n",
        "    dictionary = {}\n",
        "\n",
        "    if query.startswith(\"?\"):\n",
        "      query = query[1:]\n",
        "\n",
        "    parts = query.split(\"&\")\n",
        "\n",
        "    for string in parts:\n",
        "\n",
        "      key, value = string.split(\"=\", 1)\n",
        "      if key not in dictionary:\n",
        "        dictionary[key] = value\n",
        "      else: # if key in dictionary\n",
        "        if type(dictionary[key]) != list:\n",
        "            dictionary[key] = [dictionary[key]]\n",
        "        dictionary[key].append(value)\n",
        "\n",
        "    return dictionary\n",
        "\n",
        "parse(query)"
      ],
      "metadata": {
        "colab": {
          "base_uri": "https://localhost:8080/",
          "height": 339
        },
        "id": "HjunjL7omo1L",
        "outputId": "9094d9f3-1a1e-4c90-9346-4493b7c55438"
      },
      "execution_count": null,
      "outputs": [
        {
          "output_type": "error",
          "ename": "ValueError",
          "evalue": "ignored",
          "traceback": [
            "\u001b[0;31m---------------------------------------------------------------------------\u001b[0m",
            "\u001b[0;31mValueError\u001b[0m                                Traceback (most recent call last)",
            "\u001b[0;32m<ipython-input-36-e7423c1806ac>\u001b[0m in \u001b[0;36m<cell line: 20>\u001b[0;34m()\u001b[0m\n\u001b[1;32m     18\u001b[0m     \u001b[0;32mreturn\u001b[0m \u001b[0mdictionary\u001b[0m\u001b[0;34m\u001b[0m\u001b[0;34m\u001b[0m\u001b[0m\n\u001b[1;32m     19\u001b[0m \u001b[0;34m\u001b[0m\u001b[0m\n\u001b[0;32m---> 20\u001b[0;31m \u001b[0mparse\u001b[0m\u001b[0;34m(\u001b[0m\u001b[0mquery\u001b[0m\u001b[0;34m)\u001b[0m\u001b[0;34m\u001b[0m\u001b[0;34m\u001b[0m\u001b[0m\n\u001b[0m",
            "\u001b[0;32m<ipython-input-36-e7423c1806ac>\u001b[0m in \u001b[0;36mparse\u001b[0;34m(query)\u001b[0m\n\u001b[1;32m      8\u001b[0m \u001b[0;34m\u001b[0m\u001b[0m\n\u001b[1;32m      9\u001b[0m     \u001b[0;32mfor\u001b[0m \u001b[0mstring\u001b[0m \u001b[0;32min\u001b[0m \u001b[0mparts\u001b[0m\u001b[0;34m:\u001b[0m\u001b[0;34m\u001b[0m\u001b[0;34m\u001b[0m\u001b[0m\n\u001b[0;32m---> 10\u001b[0;31m       \u001b[0mkey\u001b[0m\u001b[0;34m,\u001b[0m \u001b[0mvalue\u001b[0m \u001b[0;34m=\u001b[0m \u001b[0mstring\u001b[0m\u001b[0;34m.\u001b[0m\u001b[0msplit\u001b[0m\u001b[0;34m(\u001b[0m\u001b[0;34m\"=\"\u001b[0m\u001b[0;34m,\u001b[0m \u001b[0;36m1\u001b[0m\u001b[0;34m)\u001b[0m\u001b[0;34m\u001b[0m\u001b[0;34m\u001b[0m\u001b[0m\n\u001b[0m\u001b[1;32m     11\u001b[0m       \u001b[0;32mif\u001b[0m \u001b[0mkey\u001b[0m \u001b[0;32mnot\u001b[0m \u001b[0;32min\u001b[0m \u001b[0mdictionary\u001b[0m\u001b[0;34m:\u001b[0m\u001b[0;34m\u001b[0m\u001b[0;34m\u001b[0m\u001b[0m\n\u001b[1;32m     12\u001b[0m         \u001b[0mdictionary\u001b[0m\u001b[0;34m[\u001b[0m\u001b[0mkey\u001b[0m\u001b[0;34m]\u001b[0m \u001b[0;34m=\u001b[0m \u001b[0mvalue\u001b[0m\u001b[0;34m\u001b[0m\u001b[0;34m\u001b[0m\u001b[0m\n",
            "\u001b[0;31mValueError\u001b[0m: not enough values to unpack (expected 2, got 1)"
          ]
        }
      ]
    },
    {
      "cell_type": "code",
      "source": [
        "string = \"s\"\n",
        "print(type(string))\n",
        "if type(string) != int:\n",
        "  print(\"False\")"
      ],
      "metadata": {
        "colab": {
          "base_uri": "https://localhost:8080/"
        },
        "id": "P7aADL9N6TP4",
        "outputId": "67e7423e-ef04-4adb-da7f-ef7e1921fc02"
      },
      "execution_count": null,
      "outputs": [
        {
          "output_type": "stream",
          "name": "stdout",
          "text": [
            "<class 'str'>\n",
            "False\n"
          ]
        }
      ]
    },
    {
      "cell_type": "markdown",
      "source": [
        "# **Acronym**"
      ],
      "metadata": {
        "id": "OMHgakEfsVCZ"
      }
    },
    {
      "cell_type": "markdown",
      "source": [
        "Convert words in a string to an acronym.\n",
        "The following words should be ignored when building the result:\n",
        "\n",
        "a\n",
        "and\n",
        "by\n",
        "of\n",
        "getAcronym(['laugh out loud'])\n",
        "'LOL'"
      ],
      "metadata": {
        "id": "2Sg6_UsJsZvb"
      }
    },
    {
      "cell_type": "markdown",
      "source": [
        "leave out:\n",
        "- a\n",
        "- of\n",
        "- and\n",
        "- by"
      ],
      "metadata": {
        "id": "zI1XuVcfv-gT"
      }
    },
    {
      "cell_type": "code",
      "source": [
        "string = \"laugh out loud\""
      ],
      "metadata": {
        "id": "OKOGD79ksmxR"
      },
      "execution_count": null,
      "outputs": []
    },
    {
      "cell_type": "code",
      "source": [
        "string = \"national aeronautics and space administration\""
      ],
      "metadata": {
        "id": "RcljHJIavpqp"
      },
      "execution_count": null,
      "outputs": []
    },
    {
      "cell_type": "code",
      "source": [
        "def getAcronym(string):\n",
        "  output = []\n",
        "  splitString = string.split()\n",
        "  for word in splitString:\n",
        "    if word != \"a\" and word != \"of\" and word != \"and\" and word != \"by\":\n",
        "      firstLetter = word[0]\n",
        "      output.append(firstLetter)\n",
        "  return \"\".join(output).upper()\n",
        "\n",
        "getAcronym(string)"
      ],
      "metadata": {
        "colab": {
          "base_uri": "https://localhost:8080/",
          "height": 35
        },
        "id": "X7js9xfQsUgB",
        "outputId": "7bb58922-ed2f-4350-d519-54e95c64c00c"
      },
      "execution_count": null,
      "outputs": [
        {
          "output_type": "execute_result",
          "data": {
            "text/plain": [
              "'NASA'"
            ],
            "application/vnd.google.colaboratory.intrinsic+json": {
              "type": "string"
            }
          },
          "metadata": {},
          "execution_count": 42
        }
      ]
    },
    {
      "cell_type": "markdown",
      "source": [
        "# **Get first k-times**"
      ],
      "metadata": {
        "id": "UiA-Jiub0OkE"
      }
    },
    {
      "cell_type": "markdown",
      "source": [
        "Return the first array element that appears k or more times within the array.\n",
        "getFirstKTimes(['a', 'b', 'a'], 2);\n",
        "'a'"
      ],
      "metadata": {
        "id": "VfpZXRXq0NG0"
      }
    },
    {
      "cell_type": "markdown",
      "source": [
        "k is a positive integer\n",
        "Return null if no element appears k or more times\n",
        "arr can contain any value types"
      ],
      "metadata": {
        "id": "kl8fkORQ0Mok"
      }
    },
    {
      "cell_type": "code",
      "source": [
        "array = [\"a\", \"b\", \"a\"]\n",
        "times = 2"
      ],
      "metadata": {
        "id": "7w1HUfAP0hbs"
      },
      "execution_count": null,
      "outputs": []
    },
    {
      "cell_type": "code",
      "source": [
        "array = [\"a\", \"b\"]\n",
        "times = 2"
      ],
      "metadata": {
        "id": "LtkoEZFe1dxc"
      },
      "execution_count": null,
      "outputs": []
    },
    {
      "cell_type": "code",
      "source": [
        "array = []\n",
        "times = 2"
      ],
      "metadata": {
        "id": "OgsDvR561nfG"
      },
      "execution_count": null,
      "outputs": []
    },
    {
      "cell_type": "code",
      "source": [
        "def getFirstKTimes(array, times):\n",
        "  for element in array:\n",
        "    count = array.count(element)\n",
        "    if count == times:\n",
        "      return element\n",
        "  return None\n",
        "\n",
        "getFirstKTimes(array, times)"
      ],
      "metadata": {
        "id": "5ayGuyYa0WMH"
      },
      "execution_count": null,
      "outputs": []
    },
    {
      "cell_type": "markdown",
      "source": [
        "# **Product of Array Except Self**\n"
      ],
      "metadata": {
        "id": "BNeXlRr4AYXl"
      }
    },
    {
      "cell_type": "code",
      "source": [
        "nums = [1, 2, 3, 4]\n",
        "# current = 1\n",
        "\n",
        "\n",
        "# 1, 1, 2, 6\n",
        "\n",
        "# 24, 12, 4, 1\n",
        "\n",
        "\n",
        "# 24, 12, 8, 6"
      ],
      "metadata": {
        "id": "60Wy0DCfBHjj"
      },
      "execution_count": null,
      "outputs": []
    },
    {
      "cell_type": "code",
      "source": [
        "def productExceptSelf(nums):\n",
        "    current = 1\n",
        "\n",
        "    leftProducts =[1 for num in nums] # 1, 1, 2, 6\n",
        "    for idx, num in enumerate(nums):\n",
        "      leftProducts[idx] = current\n",
        "      current *= nums[idx]\n",
        "\n",
        "    print(\"leftProducts: \", leftProducts)\n",
        "\n",
        "    current = 1\n",
        "    rightProducts = [1 for num in nums]\n",
        "    for idx in reversed(range(len(nums))):\n",
        "        rightProducts[idx] = current\n",
        "        current *= nums[idx]\n",
        "\n",
        "    print(\"rightProducts: \", rightProducts)\n",
        "    for idx in range(len(nums)):\n",
        "      rightProducts[idx] = leftProducts[idx] * rightProducts[idx]\n",
        "\n",
        "    return rightProducts\n",
        "\n",
        "productExceptSelf(nums)\n"
      ],
      "metadata": {
        "colab": {
          "base_uri": "https://localhost:8080/"
        },
        "id": "qboPC_GwAhrV",
        "outputId": "76741288-09e4-42ed-8ca7-91151e4b9a8c"
      },
      "execution_count": null,
      "outputs": [
        {
          "output_type": "stream",
          "name": "stdout",
          "text": [
            "leftProducts:  [1, 1, 2, 6]\n",
            "rightProducts:  [24, 12, 4, 1]\n"
          ]
        },
        {
          "output_type": "execute_result",
          "data": {
            "text/plain": [
              "[24, 12, 8, 6]"
            ]
          },
          "metadata": {},
          "execution_count": 17
        }
      ]
    },
    {
      "cell_type": "code",
      "source": [
        "for idx in reversed(range(len(nums))):\n",
        "  print(\"idx\", idx)\n"
      ],
      "metadata": {
        "colab": {
          "base_uri": "https://localhost:8080/"
        },
        "id": "Rr50WGeVJOxk",
        "outputId": "c2964cfa-ecd3-4f7d-f92f-beb1786c8003"
      },
      "execution_count": null,
      "outputs": [
        {
          "output_type": "stream",
          "name": "stdout",
          "text": [
            "idx 3\n",
            "idx 2\n",
            "idx 1\n",
            "idx 0\n"
          ]
        }
      ]
    },
    {
      "cell_type": "markdown",
      "source": [
        "# **Longest Consecutive Sequence**"
      ],
      "metadata": {
        "id": "7zN815BKIrkI"
      }
    },
    {
      "cell_type": "code",
      "source": [
        "nums = [100, 4, 200, 1, 3, 2]"
      ],
      "metadata": {
        "id": "1cDEY7eGLKBq"
      },
      "execution_count": null,
      "outputs": []
    },
    {
      "cell_type": "code",
      "source": [
        "nums = [0, 3, 7, 2, 5, 8, 4, 6, 0, 1]"
      ],
      "metadata": {
        "id": "w_cgfTlwNbEJ"
      },
      "execution_count": null,
      "outputs": []
    },
    {
      "cell_type": "code",
      "source": [
        "nums = [1, 2, 5, 6, 7, 9, 10, 11, 12] # 4"
      ],
      "metadata": {
        "id": "IiIgsBiFOmN1"
      },
      "execution_count": null,
      "outputs": []
    },
    {
      "cell_type": "code",
      "source": [
        "def longestConsecutive(nums):\n",
        "  longest = 0\n",
        "  mySet = set(nums)\n",
        "\n",
        "  for num in nums:\n",
        "    if (num-1) not in mySet:\n",
        "      length = 0\n",
        "      while (num + length) in mySet:\n",
        "        length += 1\n",
        "      longest = max(length, longest)\n",
        "  return longest\n",
        "longestConsecutive(nums)"
      ],
      "metadata": {
        "colab": {
          "base_uri": "https://localhost:8080/"
        },
        "id": "YUhuLDEu2w0y",
        "outputId": "2d874de3-f300-4f04-9dcd-6c5f26dac075"
      },
      "execution_count": null,
      "outputs": [
        {
          "output_type": "execute_result",
          "data": {
            "text/plain": [
              "4"
            ]
          },
          "metadata": {},
          "execution_count": 30
        }
      ]
    },
    {
      "cell_type": "code",
      "source": [
        "def longestConsecutive(nums):\n",
        "    # Step 1: Convert the list to a set for O(1) lookup times\n",
        "    numSet = set(nums)\n",
        "    longest = 0\n",
        "\n",
        "    for num in list(numSet):\n",
        "      if num -1 not in numSet:\n",
        "        currentNum = num\n",
        "        currentLength = 0\n",
        "        while currentNum in numSet: # [1, 2, 4, 5]\n",
        "          numSet.remove(currentNum)\n",
        "          currentLength += 1\n",
        "          currentNum += 1\n",
        "        longest = max(currentLength, longest)\n",
        "    return longest\n",
        "\n",
        "longestConsecutive(nums)"
      ],
      "metadata": {
        "colab": {
          "base_uri": "https://localhost:8080/"
        },
        "id": "PO9EDaywwFj9",
        "outputId": "4a144e05-fc3f-4f29-c538-e18dad2206e6"
      },
      "execution_count": null,
      "outputs": [
        {
          "output_type": "execute_result",
          "data": {
            "text/plain": [
              "4"
            ]
          },
          "metadata": {},
          "execution_count": 24
        }
      ]
    },
    {
      "cell_type": "code",
      "source": [
        "def longestConsecutive(nums):\n",
        "    mySet = set(nums)\n",
        "    longest = 0\n",
        "\n",
        "    for num in list(mySet):\n",
        "      if num - 1 not in mySet:\n",
        "        currentNum = num\n",
        "        currentLength = 0\n",
        "        while currentNum in mySet:\n",
        "          mySet.remove(currentNum)\n",
        "          currentLength += 1\n",
        "          currentNum += 1\n",
        "\n",
        "        longest = max(currentLength, longest)\n",
        "\n",
        "    return longest\n",
        "\n",
        "longestConsecutive(nums)"
      ],
      "metadata": {
        "id": "-cVLzdIePkP1",
        "colab": {
          "base_uri": "https://localhost:8080/"
        },
        "outputId": "823b549b-85d1-4dce-b69e-ec9c866a1876"
      },
      "execution_count": null,
      "outputs": [
        {
          "output_type": "execute_result",
          "data": {
            "text/plain": [
              "4"
            ]
          },
          "metadata": {},
          "execution_count": 14
        }
      ]
    },
    {
      "cell_type": "code",
      "source": [
        "# this doesnt work\n",
        "def longestConsecutive(nums):\n",
        "    largestSequence = 0\n",
        "    minValue = min(nums)\n",
        "    maxValue = max(nums)\n",
        "    print(\"min, max\", minValue, maxValue)\n",
        "    longestArray = []\n",
        "    while len(nums) > 1:\n",
        "      for num in range(minValue, maxValue+1):\n",
        "        print(num)\n",
        "        if num in nums:\n",
        "          longestArray.append(num)\n",
        "          print(\"longestArray: \", longestArray)\n",
        "        if num not in nums:\n",
        "          if len(longestArray) > largestSequence:\n",
        "            largestSequence = len(longestArray)\n",
        "          for i in range(len(longestArray)+1):\n",
        "              nums.remove(min(nums))\n",
        "              print(\"new nums: \", nums)\n",
        "          longestArray = []\n",
        "          minValue = min(nums)\n",
        "          maxValue = max(nums)\n",
        "\n",
        "        if len(longestArray) > largestSequence:\n",
        "            largestSequence = len(longestArray)\n",
        "    return largestSequence\n",
        "longestConsecutive(nums)"
      ],
      "metadata": {
        "colab": {
          "base_uri": "https://localhost:8080/",
          "height": 643
        },
        "id": "-5XeFBArIu9D",
        "outputId": "2b27a1a4-107f-4771-eae8-826cba5616fc"
      },
      "execution_count": null,
      "outputs": [
        {
          "output_type": "stream",
          "name": "stdout",
          "text": [
            "min, max 1 200\n",
            "1\n",
            "longestArray:  [1]\n",
            "2\n",
            "longestArray:  [1, 2]\n",
            "3\n",
            "longestArray:  [1, 2, 3]\n",
            "4\n",
            "longestArray:  [1, 2, 3, 4]\n",
            "5\n",
            "new nums:  [100, 4, 200, 3, 2]\n",
            "new nums:  [100, 4, 200, 3]\n",
            "new nums:  [100, 4, 200]\n",
            "new nums:  [100, 200]\n",
            "new nums:  [200]\n",
            "6\n",
            "new nums:  []\n"
          ]
        },
        {
          "output_type": "error",
          "ename": "ValueError",
          "evalue": "ignored",
          "traceback": [
            "\u001b[0;31m---------------------------------------------------------------------------\u001b[0m",
            "\u001b[0;31mValueError\u001b[0m                                Traceback (most recent call last)",
            "\u001b[0;32m<ipython-input-28-3112841bcbc0>\u001b[0m in \u001b[0;36m<cell line: 26>\u001b[0;34m()\u001b[0m\n\u001b[1;32m     24\u001b[0m             \u001b[0mlargestSequence\u001b[0m \u001b[0;34m=\u001b[0m \u001b[0mlen\u001b[0m\u001b[0;34m(\u001b[0m\u001b[0mlongestArray\u001b[0m\u001b[0;34m)\u001b[0m\u001b[0;34m\u001b[0m\u001b[0;34m\u001b[0m\u001b[0m\n\u001b[1;32m     25\u001b[0m     \u001b[0;32mreturn\u001b[0m \u001b[0mlargestSequence\u001b[0m\u001b[0;34m\u001b[0m\u001b[0;34m\u001b[0m\u001b[0m\n\u001b[0;32m---> 26\u001b[0;31m \u001b[0mlongestConsecutive\u001b[0m\u001b[0;34m(\u001b[0m\u001b[0mnums\u001b[0m\u001b[0;34m)\u001b[0m\u001b[0;34m\u001b[0m\u001b[0;34m\u001b[0m\u001b[0m\n\u001b[0m",
            "\u001b[0;32m<ipython-input-28-3112841bcbc0>\u001b[0m in \u001b[0;36mlongestConsecutive\u001b[0;34m(nums)\u001b[0m\n\u001b[1;32m     18\u001b[0m               \u001b[0mprint\u001b[0m\u001b[0;34m(\u001b[0m\u001b[0;34m\"new nums: \"\u001b[0m\u001b[0;34m,\u001b[0m \u001b[0mnums\u001b[0m\u001b[0;34m)\u001b[0m\u001b[0;34m\u001b[0m\u001b[0;34m\u001b[0m\u001b[0m\n\u001b[1;32m     19\u001b[0m           \u001b[0mlongestArray\u001b[0m \u001b[0;34m=\u001b[0m \u001b[0;34m[\u001b[0m\u001b[0;34m]\u001b[0m\u001b[0;34m\u001b[0m\u001b[0;34m\u001b[0m\u001b[0m\n\u001b[0;32m---> 20\u001b[0;31m           \u001b[0mminValue\u001b[0m \u001b[0;34m=\u001b[0m \u001b[0mmin\u001b[0m\u001b[0;34m(\u001b[0m\u001b[0mnums\u001b[0m\u001b[0;34m)\u001b[0m\u001b[0;34m\u001b[0m\u001b[0;34m\u001b[0m\u001b[0m\n\u001b[0m\u001b[1;32m     21\u001b[0m           \u001b[0mmaxValue\u001b[0m \u001b[0;34m=\u001b[0m \u001b[0mmax\u001b[0m\u001b[0;34m(\u001b[0m\u001b[0mnums\u001b[0m\u001b[0;34m)\u001b[0m\u001b[0;34m\u001b[0m\u001b[0;34m\u001b[0m\u001b[0m\n\u001b[1;32m     22\u001b[0m \u001b[0;34m\u001b[0m\u001b[0m\n",
            "\u001b[0;31mValueError\u001b[0m: min() arg is an empty sequence"
          ]
        }
      ]
    },
    {
      "cell_type": "code",
      "source": [
        "def longestConsecutive(nums):\n",
        "    # Convert nums to set for O(1) look-up time\n",
        "    nums = set(nums)\n",
        "\n",
        "    longest_sequence = 0\n",
        "\n",
        "    for num in nums:\n",
        "        # Check if current number is the potential start of a sequence\n",
        "        if num - 1 not in nums:\n",
        "            current_num = num\n",
        "            current_sequence = 1\n",
        "\n",
        "            # Check for consecutive numbers\n",
        "            while current_num + 1 in nums:\n",
        "                current_num += 1\n",
        "                current_sequence += 1\n",
        "\n",
        "            longest_sequence = max(longest_sequence, current_sequence)\n",
        "\n",
        "    return longest_sequence\n"
      ],
      "metadata": {
        "id": "4J1tHPcpQr-o"
      },
      "execution_count": null,
      "outputs": []
    },
    {
      "cell_type": "markdown",
      "source": [
        "# **Valid Sudoku**"
      ],
      "metadata": {
        "id": "b1d57sH26nE6"
      }
    },
    {
      "cell_type": "code",
      "source": [
        "board =\n",
        "[[\"5\",\"3\",\".\",\".\",\"7\",\".\",\".\",\".\",\".\"]\n",
        ",[\"6\",\".\",\".\",\"1\",\"9\",\"5\",\".\",\".\",\".\"]\n",
        ",[\".\",\"9\",\"8\",\".\",\".\",\".\",\".\",\"6\",\".\"]\n",
        ",[\"8\",\".\",\".\",\".\",\"6\",\".\",\".\",\".\",\"3\"]\n",
        ",[\"4\",\".\",\".\",\"8\",\".\",\"3\",\".\",\".\",\"1\"]\n",
        ",[\"7\",\".\",\".\",\".\",\"2\",\".\",\".\",\".\",\"6\"]\n",
        ",[\".\",\"6\",\".\",\".\",\".\",\".\",\"2\",\"8\",\".\"]\n",
        ",[\".\",\".\",\".\",\"4\",\"1\",\"9\",\".\",\".\",\"5\"]\n",
        ",[\".\",\".\",\".\",\".\",\"8\",\".\",\".\",\"7\",\"9\"]]"
      ],
      "metadata": {
        "id": "HfDudkHl-Xtz"
      },
      "execution_count": null,
      "outputs": []
    },
    {
      "cell_type": "code",
      "source": [
        "def isValidSudoku(self, board):\n",
        "        \"\"\"\n",
        "        :type board: List[List[str]]\n",
        "        :rtype: bool\n",
        "        \"\"\""
      ],
      "metadata": {
        "id": "FzFp8Uzi6q_F"
      },
      "execution_count": null,
      "outputs": []
    },
    {
      "cell_type": "markdown",
      "source": [
        "# [**Three Sum**](https://www.algoexpert.io/questions/three-number-sum)"
      ],
      "metadata": {
        "id": "COhsMRFsxiQl"
      }
    },
    {
      "cell_type": "code",
      "source": [
        "array = [12, 3, 1, 2, -6, 5, -8, 6]\n",
        "targetSum = 0"
      ],
      "metadata": {
        "id": "7Ty3477Kx7Yb"
      },
      "execution_count": null,
      "outputs": []
    },
    {
      "cell_type": "code",
      "source": [
        "def threeNumberSum(array, targetSum):\n",
        "    # Write your code here.\n",
        "    array.sort()\n",
        "    results = []\n",
        "    for i in range(len(array)-2):\n",
        "      left = i + 1\n",
        "      right = len(array) -1\n",
        "      while left < right:\n",
        "        result = array[i] + array[left] + array[right]\n",
        "        if result == targetSum:\n",
        "          results.append([array[i], array[left], array[right]])\n",
        "          left += 1\n",
        "          right -= 1\n",
        "        elif result < targetSum:\n",
        "          left += 1\n",
        "        else: # result > targetSum:\n",
        "          right -= 1\n",
        "    return results\n",
        "\n",
        "threeNumberSum(array, targetSum)"
      ],
      "metadata": {
        "colab": {
          "base_uri": "https://localhost:8080/"
        },
        "id": "X90RUVZ5xizO",
        "outputId": "30b19b6d-a6f0-43b6-c5de-4acc93d3ec40"
      },
      "execution_count": null,
      "outputs": [
        {
          "output_type": "execute_result",
          "data": {
            "text/plain": [
              "[[-8, 2, 6], [-8, 3, 5], [-6, 1, 5]]"
            ]
          },
          "metadata": {},
          "execution_count": 32
        }
      ]
    },
    {
      "cell_type": "markdown",
      "source": [
        "# **[Sort Characters By Frequency](https://leetcode.com/problems/sort-characters-by-frequency/description/)**"
      ],
      "metadata": {
        "id": "Yq4b-NS76i4q"
      }
    },
    {
      "cell_type": "code",
      "source": [
        "string = \"tree\""
      ],
      "metadata": {
        "id": "xDCX7Q4h8Tzp"
      },
      "execution_count": null,
      "outputs": []
    },
    {
      "cell_type": "code",
      "source": [
        "# O(n^2)\n",
        "def frequencySort(string):\n",
        "    dictionary = {}\n",
        "    output = []\n",
        "    for letter in string:\n",
        "      if letter not in dictionary:\n",
        "        dictionary[letter] = 0\n",
        "      dictionary[letter] += 1\n",
        "\n",
        "    while len(dictionary) > 0:\n",
        "      max_value = max(dictionary, key=dictionary.get) # e\n",
        "      output.extend([max_value] * dictionary[max_value]) # (e* 2 = ee)\n",
        "      del dictionary[max_value]\n",
        "\n",
        "    return \"\".join(output)\n",
        "\n",
        "\n",
        "frequencySort(string)\n",
        "\n",
        "\n",
        "\n"
      ],
      "metadata": {
        "colab": {
          "base_uri": "https://localhost:8080/",
          "height": 35
        },
        "id": "JCmFHiiw6kFK",
        "outputId": "d275bddf-8330-4596-b731-ca005736922b"
      },
      "execution_count": null,
      "outputs": [
        {
          "output_type": "execute_result",
          "data": {
            "text/plain": [
              "'eetr'"
            ],
            "application/vnd.google.colaboratory.intrinsic+json": {
              "type": "string"
            }
          },
          "metadata": {},
          "execution_count": 19
        }
      ]
    },
    {
      "cell_type": "code",
      "source": [
        "string = \"tree\"\n",
        "dictionary = {}\n",
        "for letter in s:\n",
        "  if letter not in dictionary:\n",
        "    dictionary[letter] = 0\n",
        "  dictionary[letter] += 1\n",
        "  print(dictionary[letter])\n",
        "print(dictionary)\n",
        "print(len(dictionary))\n",
        "print(\"max:\", max(dictionary, key=dictionary.get))\n"
      ],
      "metadata": {
        "colab": {
          "base_uri": "https://localhost:8080/"
        },
        "id": "ogqMcEuo7PSF",
        "outputId": "a9f4d0d0-c3cc-4b36-a05f-6860c3d0b59e"
      },
      "execution_count": null,
      "outputs": [
        {
          "output_type": "stream",
          "name": "stdout",
          "text": [
            "1\n",
            "1\n",
            "1\n",
            "2\n",
            "{'t': 1, 'r': 1, 'e': 2}\n",
            "3\n",
            "max: e\n"
          ]
        }
      ]
    },
    {
      "cell_type": "code",
      "source": [
        "def frequencySort(self, s: str) -> str:\n",
        "        count_dict={}\n",
        "        for i in s:\n",
        "            count_dict[i]=count_dict.get(i,0)+1\n",
        "        sorted_dict=dict(sorted(count_dict.items(),key = lambda item : item[1], reverse=True))\n",
        "        ans=''\n",
        "        print(sorted_dict)\n",
        "        for i,j in sorted_dict.items():\n",
        "            ans+=i*j\n",
        "        return ans"
      ],
      "metadata": {
        "id": "SyZEa8raCxB6"
      },
      "execution_count": null,
      "outputs": []
    },
    {
      "cell_type": "code",
      "source": [
        "string = \"tree\""
      ],
      "metadata": {
        "id": "VtENcD9zS4c6"
      },
      "execution_count": null,
      "outputs": []
    },
    {
      "cell_type": "code",
      "source": [
        "def frequencySort(string):\n",
        "    dictionary = {}\n",
        "    output = []\n",
        "    for letter in string:\n",
        "      if letter not in dictionary:\n",
        "        dictionary[letter] = 0\n",
        "      dictionary[letter] += 1\n",
        "\n",
        "    sorted_dict = sorted(dictionary.items(), key=lambda item: item[1], reverse=True)\n",
        "    for key, value in sorted_dict:\n",
        "      output.append(key*value)\n",
        "\n",
        "    return \"\".join(output)\n",
        "\n",
        "\n",
        "\n",
        "frequencySort(string)"
      ],
      "metadata": {
        "colab": {
          "base_uri": "https://localhost:8080/",
          "height": 35
        },
        "id": "XXMRljH7OnP2",
        "outputId": "4ef720e5-0681-4ae1-b097-c17adb90cd3f"
      },
      "execution_count": null,
      "outputs": [
        {
          "output_type": "execute_result",
          "data": {
            "text/plain": [
              "'eetr'"
            ],
            "application/vnd.google.colaboratory.intrinsic+json": {
              "type": "string"
            }
          },
          "metadata": {},
          "execution_count": 36
        }
      ]
    },
    {
      "cell_type": "markdown",
      "source": [
        "# **Merge Intervals**"
      ],
      "metadata": {
        "id": "vDe-5XfJQQYi"
      }
    },
    {
      "cell_type": "code",
      "source": [
        "intervals = [[1, 3], [2, 6], [8, 10], [15, 18]] # [[1,6],[8,10],[15,18]]\n",
        "# intervals = [[1, 2], [3, 4], >[4, 5], [6, 7]]\n",
        "# intervals = [1, 4], [2, 3], [4, 5], [6, 7], [8, 9]"
      ],
      "metadata": {
        "id": "hwJZAUalQe6R"
      },
      "execution_count": null,
      "outputs": []
    },
    {
      "cell_type": "code",
      "source": [
        "def merge(intervals):\n",
        "  i = 0\n",
        "  newIntervals = [] # [1, 2], [3, 5]\n",
        "  while i < len(intervals):  #2\n",
        "    currentInterval = intervals[i] # 4, 5\n",
        "    nextInteralIdx = i +1\n",
        "    nextInterval = intervals[nextInteralIdx] # 2, 6\n",
        "    firstNumCur, lastNumCur = currentInterval[0], currentInterval[1] # 3, 4\n",
        "    firstNumNext, lastNumNext = nextInterval[0], nextInterval[1] # 4, 5\n",
        "    while lastNumCur >= firstNumNext: # 4>= 4\n",
        "      newIntervals.append([min(firstNumCur, firstNumNext), max(lastNumCur, lastNumNext)]) # 3, 5\n",
        "      while nextInteralIdx < len(intervals):\n",
        "        nextInteralIdx += 1\n",
        "      i = nextInteralIdx\n",
        "    else:\n",
        "      intervals.append(currentInterval) # 1, 2\n",
        "    i += 1\n",
        "  return newIntervals\n",
        "\n",
        "merge(intervals)\n"
      ],
      "metadata": {
        "id": "MPtAUKt6QDkh"
      },
      "execution_count": null,
      "outputs": []
    },
    {
      "cell_type": "markdown",
      "source": [
        "# **Compress**"
      ],
      "metadata": {
        "id": "UfjqAVxAYgUu"
      }
    },
    {
      "cell_type": "code",
      "source": [
        "word = \"ccaaatsss\"  #3"
      ],
      "metadata": {
        "id": "PbLwgpGGYy1A"
      },
      "execution_count": null,
      "outputs": []
    },
    {
      "cell_type": "code",
      "source": [
        "word = \"ssssbbz\""
      ],
      "metadata": {
        "id": "7UEVEokbdyvk"
      },
      "execution_count": null,
      "outputs": []
    },
    {
      "cell_type": "code",
      "source": [
        "word = \"yyyyyyyyyyyyyyyyyyyyyyyyyyyyyyyyyyyyyyyyyyyyyyyyyyyyyyyyyyyyyyyyyyyyyyyyyyyyyyyyyyyyyyyyyyyyyyyyyyyyyyyyyyyyyyyyyyyyyyyyyyyyyyy\""
      ],
      "metadata": {
        "id": "vDsRdEVod1wh"
      },
      "execution_count": null,
      "outputs": []
    },
    {
      "cell_type": "code",
      "source": [
        "def compress(word):\n",
        "  output = []\n",
        "  count = 1\n",
        "  for idx in range(len(word)-1):\n",
        "    if word[idx] == word[idx+1]:\n",
        "      count += 1\n",
        "    else:\n",
        "      if count != 1:\n",
        "        output.append(str(count))\n",
        "      output.append(word[idx])\n",
        "      count = 1\n",
        "\n",
        "  # handle the last case\n",
        "  if count != 1:\n",
        "     output.append(str(count))\n",
        "  output.append(word[-1])\n",
        "\n",
        "  return \"\".join(output)\n",
        "compress(word)"
      ],
      "metadata": {
        "colab": {
          "base_uri": "https://localhost:8080/",
          "height": 35
        },
        "id": "_eC6J8phYibI",
        "outputId": "fa723543-dfad-424e-bf79-f8ff0ccd239e"
      },
      "execution_count": null,
      "outputs": [
        {
          "output_type": "execute_result",
          "data": {
            "text/plain": [
              "'127y'"
            ],
            "application/vnd.google.colaboratory.intrinsic+json": {
              "type": "string"
            }
          },
          "metadata": {},
          "execution_count": 25
        }
      ]
    },
    {
      "cell_type": "code",
      "source": [],
      "metadata": {
        "id": "E8Ca3uERaOxO"
      },
      "execution_count": null,
      "outputs": []
    },
    {
      "cell_type": "markdown",
      "source": [
        "90 mins\n",
        "\n",
        "\n",
        "10 mins - Data Structure of the day\n",
        "walk through one data structure basic operations notebook.\n",
        "\n",
        "40 mins each - Interview question\n",
        "- Pick an interviewer persona\n",
        "- Award Points for certain metrics\n",
        "- eg breakingdown problem, clarfying assumptions, conceptual overview, etc..\n",
        "\n",
        "10 mins\n",
        "- Discuss points and how to improve"
      ],
      "metadata": {
        "id": "83v_JOXblDnL"
      }
    },
    {
      "cell_type": "markdown",
      "source": [
        "# **Bandwidth Distribution**"
      ],
      "metadata": {
        "id": "gq4mwkKbrNL7"
      }
    },
    {
      "cell_type": "code",
      "source": [
        "n = 5\n",
        "total_bandwidth = 500\n",
        "bandwidth = [200, 100, 350, 50, 100]\n",
        "# 50, 100, 100, 200, 350\n",
        "request = [270, 142, 450, 124, 189]"
      ],
      "metadata": {
        "id": "GY9Uch_3rQ_B"
      },
      "execution_count": null,
      "outputs": []
    },
    {
      "cell_type": "code",
      "source": [
        "def getMaxRequests(bandwidth, request, total_bandwidth):\n"
      ],
      "metadata": {
        "id": "zUFSgYl6sEtp"
      },
      "execution_count": null,
      "outputs": []
    },
    {
      "cell_type": "code",
      "source": [
        "bandwidth = [200, 100, 350, 50, 100]\n",
        "max_sum = 500"
      ],
      "metadata": {
        "id": "kzJziKO8wpqS"
      },
      "execution_count": null,
      "outputs": []
    },
    {
      "cell_type": "code",
      "source": [
        "bandwidth = [100, 500, 80, 25, 400]\n",
        "max_sum = 200"
      ],
      "metadata": {
        "id": "gri6n4vt5Jnm"
      },
      "execution_count": null,
      "outputs": []
    },
    {
      "cell_type": "code",
      "source": [
        "def find_substrings(bandwidth, max_sum):\n",
        "    n = len(bandwidth)\n",
        "    valid_substrings = []\n",
        "\n",
        "    # Generate all valid substrings\n",
        "    for i in range(n):\n",
        "        current_sum = 0\n",
        "        for j in range(i, n):\n",
        "            current_sum += bandwidth[j]\n",
        "            if current_sum <= max_sum:\n",
        "                valid_substrings.append(bandwidth[i:j+1])\n",
        "            else:\n",
        "                break\n",
        "\n",
        "    # Sort substrings by length (descending) and sum (ascending)\n",
        "    valid_substrings.sort(key=lambda x: (-len(x), sum(x)))\n",
        "\n",
        "    # Filter out subsets\n",
        "    final_substrings = []\n",
        "    for s in valid_substrings:\n",
        "        if not any(set(s).issubset(set(other)) for other in final_substrings):\n",
        "            final_substrings.append(s)\n",
        "\n",
        "    return final_substrings\n",
        "\n",
        "find_substrings(bandwidth, max_sum)"
      ],
      "metadata": {
        "colab": {
          "base_uri": "https://localhost:8080/"
        },
        "id": "9kaneiq7wmW2",
        "outputId": "d5bffb9f-2599-48e7-80e4-30776b19efa0"
      },
      "execution_count": null,
      "outputs": [
        {
          "output_type": "execute_result",
          "data": {
            "text/plain": [
              "[[80, 25], [100]]"
            ]
          },
          "metadata": {},
          "execution_count": 18
        }
      ]
    },
    {
      "cell_type": "markdown",
      "source": [
        "# **Container With Most Water**"
      ],
      "metadata": {
        "id": "yZmJbT52Ts7P"
      }
    },
    {
      "cell_type": "code",
      "source": [
        "def maxArea(self, height):\n",
        "        # len(height) = len(n)\n",
        "        # n vertical lines |\n",
        "        # n = 1\n",
        "        #\n",
        "        \"\"\"\n",
        "        :type height: List[int]\n",
        "        :rtype: int\n",
        "        \"\"\""
      ],
      "metadata": {
        "id": "H1BzszbNTrMa"
      },
      "execution_count": null,
      "outputs": []
    },
    {
      "cell_type": "markdown",
      "source": [
        "# **Decompress Brackets**"
      ],
      "metadata": {
        "id": "gMdzPbTo03Ns"
      }
    },
    {
      "cell_type": "markdown",
      "source": [
        "Write a function, decompress_braces, that takes in a compressed string as an argument. The function should return the string decompressed.\n",
        "\n",
        "\n",
        "The compression format of the input string is 'n{sub_string}', where the sub_string within braces should be repeated n times.\n",
        "\n",
        "You may assume that every number n is guaranteed to be an integer between 1 through 9.\n",
        "\n",
        "You may assume that the input is valid and the decompressed string will only contain alphabetic characters.\n",
        "decompress_braces(\"2{q}3{tu}v\")\n",
        "# -> qqtututuv\n",
        "decompress_braces(\"ch3{ao}\")\n",
        "# -> chaoaoao"
      ],
      "metadata": {
        "id": "rpYmI2aE09c6"
      }
    },
    {
      "cell_type": "code",
      "source": [
        "input = \"2{q}3{tu}v\""
      ],
      "metadata": {
        "id": "4l0UPiu71grl"
      },
      "execution_count": null,
      "outputs": []
    },
    {
      "cell_type": "code",
      "source": [
        "input = \"ch3{ao}\""
      ],
      "metadata": {
        "id": "lcDfk70B6y0v"
      },
      "execution_count": null,
      "outputs": []
    },
    {
      "cell_type": "code",
      "source": [
        "decompress_braces(\"2{3{r4{e}r}io}\")\n",
        "# reeeerreeeerreeeerioreeeerreeeerreeeerio"
      ],
      "metadata": {
        "id": "dRqFtyKq2BvZ"
      },
      "execution_count": null,
      "outputs": []
    },
    {
      "cell_type": "code",
      "source": [
        "def decompress_braces(input):\n",
        "    output = []\n",
        "    numbers = \"123456789\"\n",
        "    number = 1\n",
        "    idx = 0\n",
        "    while idx < len(input):\n",
        "      char = input[idx]\n",
        "      if char in numbers:\n",
        "        number = int(char)\n",
        "        subString = input[idx+2:find_closing_brace(input, idx+2)]\n",
        "        output.append(number * subString)\n",
        "        idx = find_closing_brace(input, idx+2) + 1\n",
        "      else: # if char is letter\n",
        "        output.append(char)\n",
        "        idx += 1\n",
        "    return \"\".join(output)\n",
        "\n",
        "def find_closing_brace(input, start_idx):\n",
        "    for i in range(start_idx, len(input)):\n",
        "        if input[i] == '}':\n",
        "            return i\n",
        "    return -1  # Return -1 or some value to indicate that '}' was not found\n",
        "\n",
        "decompress_braces(input)\n"
      ],
      "metadata": {
        "colab": {
          "base_uri": "https://localhost:8080/",
          "height": 35
        },
        "id": "PvUN2ttV08QF",
        "outputId": "3d0cd61f-e9a2-464c-97d8-7029999d1a09"
      },
      "execution_count": null,
      "outputs": [
        {
          "output_type": "execute_result",
          "data": {
            "text/plain": [
              "'chaoaoao'"
            ],
            "application/vnd.google.colaboratory.intrinsic+json": {
              "type": "string"
            }
          },
          "metadata": {},
          "execution_count": 7
        }
      ]
    },
    {
      "cell_type": "code",
      "source": [
        "number = 2\n",
        "input = \"ab\"\n",
        "print(number *input)"
      ],
      "metadata": {
        "colab": {
          "base_uri": "https://localhost:8080/"
        },
        "id": "g0nzORGF2Xxq",
        "outputId": "9a727a4a-acec-4126-a71c-1e0941e968cf"
      },
      "execution_count": null,
      "outputs": [
        {
          "output_type": "stream",
          "name": "stdout",
          "text": [
            "abab\n"
          ]
        }
      ]
    },
    {
      "cell_type": "markdown",
      "source": [
        "# **Daily Temperatures**"
      ],
      "metadata": {
        "id": "OYoYVkc4BXaF"
      }
    },
    {
      "cell_type": "code",
      "source": [
        "temperatures = [73,74,75,71,69,72,76,73] # 1, 1, 4, 2, 1, 1, 0, 0\n",
        "\n",
        "#Output = [1,1,4,2,1,1,0,0]\n",
        "#temperatures = [73,74,>75,71,69,72,>76,73]"
      ],
      "metadata": {
        "id": "r7HEZTK7B0zx"
      },
      "execution_count": null,
      "outputs": []
    },
    {
      "cell_type": "code",
      "source": [
        "def dailyTemperatures(temperatures):\n",
        "    idx1 = 0 #2\n",
        "    idx2 = 1 #6\n",
        "    counter = 0 #0\n",
        "    output = [] #1, 1\n",
        "    while idx1 < len(temperatures) and idx2 < len(temperatures): #2, 6\n",
        "      if temperatures[idx1] < temperatures[idx2]: # 75 < 76 > True\n",
        "        counter += 1 # 4\n",
        "        output.append(counter) # output = [1, 1, 4]\n",
        "        counter = 0 # 0\n",
        "        idx1 += 1 # 3\n",
        "        idx2 = idx1 + 1\n",
        "        continue\n",
        "      elif temperatures[idx1] > temperatures[idx2]: # 75 > 72\n",
        "        counter += 1 # 3\n",
        "\n",
        "      if idx2 < len(temperatures): # 5 < 8  > True\n",
        "        idx2 += 1 # 6\n",
        "      if idx2 >= len(temperatures):\n",
        "        output.append(0)\n",
        "        idx1 += 1\n",
        "        idx2 = idx1 +1\n",
        "    output.append(0)\n",
        "    return output\n",
        "\n",
        "\n",
        "dailyTemperatures(temperatures)\n",
        "\n"
      ],
      "metadata": {
        "colab": {
          "base_uri": "https://localhost:8080/"
        },
        "id": "5jq2Lk_WBaxi",
        "outputId": "2d67c18a-49c5-430e-9a93-740f7de5beda"
      },
      "execution_count": null,
      "outputs": [
        {
          "output_type": "execute_result",
          "data": {
            "text/plain": [
              "[1, 1, 4, 2, 1, 1, 0, 0]"
            ]
          },
          "metadata": {},
          "execution_count": 18
        }
      ]
    },
    {
      "cell_type": "code",
      "source": [
        "def dailyTemperatures(temperatures):\n",
        "    idx = 0\n",
        "    output = [0 for _ in temperatures]\n",
        "    while idx < len(temperatures) -1:\n",
        "      idx2 = idx + 1\n",
        "      while idx2 < len(temperatures) and temperatures[idx] >= temperatures[idx2]:\n",
        "        idx2 += 1\n",
        "      if idx2 < len(temperatures):\n",
        "        output[idx] = idx2 - idx\n",
        "      idx += 1\n",
        "    return output\n",
        "\n",
        "dailyTemperatures(temperatures)"
      ],
      "metadata": {
        "colab": {
          "base_uri": "https://localhost:8080/"
        },
        "id": "eTd02etwVOvl",
        "outputId": "63e606d6-0acc-4429-ce54-2404c3a1238d"
      },
      "execution_count": null,
      "outputs": [
        {
          "output_type": "execute_result",
          "data": {
            "text/plain": [
              "[2, 1, 4, 3, 2, 1, 0, 0]"
            ]
          },
          "metadata": {},
          "execution_count": 14
        }
      ]
    },
    {
      "cell_type": "code",
      "source": [
        "# initialize empty stack\n",
        "stack = []\n",
        " #Push the numbers 1, 2, and 3 onto the stack in that order.\n",
        "stack.append(1)\n",
        "stack.append(2)\n",
        "stack.append(3)\n",
        "# Pop an element from the stack and print it.\n",
        "print(stack.pop())\n",
        "\n",
        "print(stack)"
      ],
      "metadata": {
        "colab": {
          "base_uri": "https://localhost:8080/"
        },
        "id": "orVrXuHEMejc",
        "outputId": "bf7f04c7-d562-4532-ec67-6576928edd22"
      },
      "execution_count": null,
      "outputs": [
        {
          "output_type": "stream",
          "name": "stdout",
          "text": [
            "3\n",
            "[1, 2]\n"
          ]
        }
      ]
    },
    {
      "cell_type": "code",
      "source": [
        "# Initialize an empty stack.\n",
        "stack = []\n",
        "# Push the strings \"first\", \"second\", and \"third\" onto the stack.\n",
        "stack.append(\"first\")\n",
        "stack.append(\"second\")\n",
        "stack.append(\"third\")\n",
        "# Pop each element from the stack and print each one. They should be printed in the reverse order of how they were added.\n",
        "while stack:\n",
        "  print(stack.pop())"
      ],
      "metadata": {
        "colab": {
          "base_uri": "https://localhost:8080/"
        },
        "id": "KhAngCjxM7Bm",
        "outputId": "971fc68b-bfd4-4e8b-e554-795c251ddd10"
      },
      "execution_count": null,
      "outputs": [
        {
          "output_type": "stream",
          "name": "stdout",
          "text": [
            "third\n",
            "second\n",
            "first\n"
          ]
        }
      ]
    },
    {
      "cell_type": "markdown",
      "source": [
        "Exercise 3: Using a Stack to Check for Balanced Parentheses"
      ],
      "metadata": {
        "id": "7fmmCwtB0gB-"
      }
    },
    {
      "cell_type": "code",
      "source": [
        "string = \"((()))()\""
      ],
      "metadata": {
        "id": "YoL3Hh8Y1b1R"
      },
      "execution_count": null,
      "outputs": []
    },
    {
      "cell_type": "code",
      "source": [
        "# Initialize an empty stack.\n",
        "stack = []\n",
        "# Iterate over each character in the string.\n",
        "def balancedParantheses(string):\n",
        "  for bracket in string:\n",
        "  # If an opening parenthesis is encountered, push it onto the stack.\n",
        "    if bracket == \"(\":\n",
        "      stack.append(bracket)\n",
        "    # If a closing parenthesis is encountered, pop from the stack and check if it matches the opening one.\n",
        "    elif bracket == \")\":\n",
        "      if stack and stack[-1] == \"()\":\n",
        "        stack.pop()\n",
        "      else:\n",
        "        #If the stack is empty or the top is not an opening bracket, then the parentheses are not balanced.\n",
        "        return False\n",
        "  # At the end, if the stack is empty, then the parentheses are balanced.\n",
        "  return stack == []\n",
        "\n",
        "balancedParantheses(string)"
      ],
      "metadata": {
        "colab": {
          "base_uri": "https://localhost:8080/"
        },
        "id": "I58mIP1I0fCc",
        "outputId": "fe59717b-6425-40b3-d184-6a036ffddc0a"
      },
      "execution_count": null,
      "outputs": [
        {
          "output_type": "execute_result",
          "data": {
            "text/plain": [
              "True"
            ]
          },
          "metadata": {},
          "execution_count": 23
        }
      ]
    },
    {
      "cell_type": "markdown",
      "source": [
        "**Reverse a String**"
      ],
      "metadata": {
        "id": "yAcuXOW_2oCM"
      }
    },
    {
      "cell_type": "code",
      "source": [
        "string = \"hello\""
      ],
      "metadata": {
        "id": "WJ-Gxuk22yzl"
      },
      "execution_count": null,
      "outputs": []
    },
    {
      "cell_type": "code",
      "source": [
        "#Write a function that takes a string as input.\n",
        "def reverseString(string):\n",
        "  stack = []\n",
        "  output = []\n",
        "  # Push each character onto a stack.\n",
        "  for letter in string:\n",
        "    stack.append(letter)\n",
        "  # Pop each character from the stack and append it to a new string.\n",
        "  while stack:\n",
        "    output.append(stack.pop()) # output = \"\", output += stack.pop() would be another solution\n",
        "  return \"\".join(output)\n",
        "reverseString(string)"
      ],
      "metadata": {
        "colab": {
          "base_uri": "https://localhost:8080/",
          "height": 35
        },
        "id": "wH7OIt7Z2m_r",
        "outputId": "a25f2abc-7a77-44d1-e69d-b3c14a3e37b0"
      },
      "execution_count": null,
      "outputs": [
        {
          "output_type": "execute_result",
          "data": {
            "text/plain": [
              "'olleh'"
            ],
            "application/vnd.google.colaboratory.intrinsic+json": {
              "type": "string"
            }
          },
          "metadata": {},
          "execution_count": 29
        }
      ]
    },
    {
      "cell_type": "markdown",
      "source": [
        "**Exercise 5: Validate Stack Sequences**"
      ],
      "metadata": {
        "id": "O3Ae-d4X4ubo"
      }
    },
    {
      "cell_type": "code",
      "source": [
        "pushed = \"abcd\"\n",
        "popped = \"dcba\""
      ],
      "metadata": {
        "id": "nZeCsP2G8x4L"
      },
      "execution_count": null,
      "outputs": []
    },
    {
      "cell_type": "code",
      "source": [
        "pushed = \"auwddddef\"\n",
        "popped = \"auuww\""
      ],
      "metadata": {
        "id": "qkBzBh1g94cp"
      },
      "execution_count": null,
      "outputs": []
    },
    {
      "cell_type": "code",
      "source": [
        "def validateStackSequences(pushed, popped):\n",
        "  stack = []\n",
        "  for idx, char in enumerate(pushed):\n",
        "    stack.append(char)\n",
        "  counter = 0\n",
        "  while stack and counter < len(popped):\n",
        "    if stack[-1] == popped[counter]:\n",
        "      stack.pop()\n",
        "      counter += 1\n",
        "  return stack == []\n",
        "validateStackSequences(pushed, popped)\n"
      ],
      "metadata": {
        "colab": {
          "base_uri": "https://localhost:8080/"
        },
        "id": "Xtkt2knK4uHK",
        "outputId": "4e7a359c-9806-4b8e-dae2-05a1914dcf47"
      },
      "execution_count": null,
      "outputs": [
        {
          "output_type": "execute_result",
          "data": {
            "text/plain": [
              "False"
            ]
          },
          "metadata": {},
          "execution_count": 36
        }
      ]
    },
    {
      "cell_type": "code",
      "source": [
        "def validateStackSequences(pushed, popped):\n",
        "    stack = []\n",
        "    pop_index = 0  # To keep track of the position in the popped list\n",
        "\n",
        "    for value in pushed:\n",
        "        stack.append(value)  # Push the next value onto the stack\n",
        "        # Try to pop as many values as possible\n",
        "        while stack and stack[-1] == popped[pop_index]:\n",
        "            stack.pop()  # Pop the top value if it matches the next value in popped\n",
        "            pop_index += 1  # Move to the next value in popped\n",
        "\n",
        "    # If all elements have been popped correctly, stack should be empty\n",
        "    return not stack"
      ],
      "metadata": {
        "id": "HOZ8Ss6B-aZP"
      },
      "execution_count": null,
      "outputs": []
    },
    {
      "cell_type": "markdown",
      "source": [
        "**Nesting score**"
      ],
      "metadata": {
        "id": "2xoJz-PxMZEC"
      }
    },
    {
      "cell_type": "markdown",
      "source": [
        "Write a function, nesting_score, that takes in a string of brackets as an argument. The function should return the score of the string according to the following rules:\n",
        "\n",
        "*   [] is worth 1 point\n",
        "*   XY is worth m + n points where X, Y are substrings of well-formed brackets and m, n are their respective scores\n",
        "*   [S] is worth 2 * k points where S is a substring of well-formed brackets and k is the score of that substring\n",
        "\n",
        "\n",
        "\n",
        "You may assume that the input only contains well-formed square brackets."
      ],
      "metadata": {
        "id": "wwoX5kjeMiFq"
      }
    },
    {
      "cell_type": "code",
      "source": [
        "nesting_score(\"[]\") # -> 1\n",
        "nesting_score(\"[][][]\") # -> 3\n",
        "nesting_score(\"[[]]\") # -> 2\n",
        "nesting_score(\"[[][]]\") # -> 4\n",
        "nesting_score(\"[[][][]]\") # -> 6\n",
        "nesting_score(\"[][[][]][[]]\") # -> 7\n",
        "nesting_score(\"[[[[[[[][]]]]]]][]\") # -> 129\n",
        "                    2  2"
      ],
      "metadata": {
        "id": "GUjEUtBEMQPW"
      },
      "execution_count": null,
      "outputs": []
    },
    {
      "cell_type": "markdown",
      "source": [
        "https://leetcode.com/problems/word-search/"
      ],
      "metadata": {
        "id": "sYbDzThtPu_x"
      }
    },
    {
      "cell_type": "markdown",
      "source": [
        "[Subsets](https://leetcode.com/problems/subsets/)"
      ],
      "metadata": {
        "id": "ug7YTwNyPwzt"
      }
    },
    {
      "cell_type": "markdown",
      "source": [
        "[Gas station](https://leetcode.com/problems/gas-station/description/)"
      ],
      "metadata": {
        "id": "T4ngaHybP_iX"
      }
    },
    {
      "cell_type": "markdown",
      "source": [
        "[Valid Paranthesis](https://leetcode.com/problems/valid-parenthesis-string/)\n"
      ],
      "metadata": {
        "id": "b6yf7LoAQMOX"
      }
    },
    {
      "cell_type": "markdown",
      "source": [
        "Given a string s containing only three types of characters: '(', ')' and '*', return true if s is valid.\n",
        "\n",
        "The following rules define a valid string:\n",
        "\n",
        "Any left parenthesis '(' must have a corresponding right parenthesis ')'.\n",
        "Any right parenthesis ')' must have a corresponding left parenthesis '('.\n",
        "Left parenthesis '(' must go before the corresponding right parenthesis ')'.\n",
        "'*' could be treated as a single right parenthesis ')' or a single left parenthesis '(' or an empty string \"\"."
      ],
      "metadata": {
        "id": "ERz2BIlrQmNY"
      }
    },
    {
      "cell_type": "code",
      "source": [
        "dictionary = {\"(\": \")\", \"(\": \"*\",  }\n",
        "dict2 = {\"(\": 2, \"*\": 2, \")\": 5}"
      ],
      "metadata": {
        "id": "9gonRdUAQEV1"
      },
      "execution_count": null,
      "outputs": []
    },
    {
      "cell_type": "code",
      "source": [
        "s = \"((>****))))\"\n",
        "s = \"))((*))((\""
      ],
      "metadata": {
        "id": "av3g5Sl9Ruxz"
      },
      "execution_count": null,
      "outputs": []
    },
    {
      "cell_type": "code",
      "source": [
        "numbers = [1,5, 2, 8, 3, 88, 3, 4]"
      ],
      "metadata": {
        "id": "OwWgD0CAg_n5"
      },
      "execution_count": null,
      "outputs": []
    },
    {
      "cell_type": "code",
      "source": [
        "def find_largest_sum(numbers):\n",
        "    # Your code here\n",
        "    largest = [0,0]\n",
        "    for num in numbers:\n",
        "      if num > largest[0] or num > largest[1]:\n",
        "        smallest = min(largest)\n",
        "        largest[largest.index(smallest)] = num\n",
        "    return largest\n",
        "find_largest_sum(numbers)"
      ],
      "metadata": {
        "colab": {
          "base_uri": "https://localhost:8080/"
        },
        "id": "AXUClW4bgfLA",
        "outputId": "8ee524cb-a9fb-44c0-b05b-6fa398d2fdd8"
      },
      "execution_count": null,
      "outputs": [
        {
          "output_type": "execute_result",
          "data": {
            "text/plain": [
              "[1, 0]"
            ]
          },
          "metadata": {},
          "execution_count": 18
        }
      ]
    },
    {
      "cell_type": "markdown",
      "source": [
        "**Question 2: Coin Change Problem**"
      ],
      "metadata": {
        "id": "52AtdFE7kk-g"
      }
    },
    {
      "cell_type": "code",
      "source": [
        "coins = [1, 2, 5, 3]\n",
        "amount = 11"
      ],
      "metadata": {
        "id": "CAsml8g7lqJa"
      },
      "execution_count": null,
      "outputs": []
    },
    {
      "cell_type": "code",
      "source": [
        "def coinchange(coins, amount):\n",
        "    coins.sort()\n",
        "    count = 0\n",
        "    for idx in range(reversed(coins)):\n",
        "      currentCoin = coins[idx]\n",
        "      while currentCoin >= amount:\n",
        "        amount\n",
        "    return\n",
        "coinchange(coins, amount)"
      ],
      "metadata": {
        "colab": {
          "base_uri": "https://localhost:8080/"
        },
        "id": "_DDHFA89h_9M",
        "outputId": "3d2bb214-2d6f-4da5-f7aa-0df8db8e36b0"
      },
      "execution_count": null,
      "outputs": [
        {
          "output_type": "execute_result",
          "data": {
            "text/plain": [
              "[1, 2, 3, 5]"
            ]
          },
          "metadata": {},
          "execution_count": 20
        }
      ]
    },
    {
      "cell_type": "markdown",
      "source": [
        "# 347. Top K Frequent Elements"
      ],
      "metadata": {
        "id": "6tDkhzu-gLMb"
      }
    },
    {
      "cell_type": "code",
      "source": [
        "nums = [1,1,1,2,2,3]\n",
        "k = 2"
      ],
      "metadata": {
        "id": "Pp1yTPnfgKHO"
      },
      "execution_count": 33,
      "outputs": []
    },
    {
      "cell_type": "code",
      "source": [
        "def topKFrequent(nums, k):\n",
        "    counts = {}\n",
        "    for num in nums:\n",
        "      counts[num] = counts.get(num, 0) + 1\n",
        "    sortedCounts = sorted(counts.items(), key=lambda item: item[1], reverse=True)\n",
        "    output = [num for num, value in sortedCounts[:k]]\n",
        "    return output\n",
        "topKFrequent(nums, k)"
      ],
      "metadata": {
        "colab": {
          "base_uri": "https://localhost:8080/"
        },
        "id": "QSuUHleBhdzx",
        "outputId": "cf3e3e42-b424-4348-ae87-3bbda7233131"
      },
      "execution_count": 34,
      "outputs": [
        {
          "output_type": "execute_result",
          "data": {
            "text/plain": [
              "[1, 2]"
            ]
          },
          "metadata": {},
          "execution_count": 34
        }
      ]
    },
    {
      "cell_type": "code",
      "source": [
        "dict1 = {1: 3, 2: 2, 3: 1}\n",
        "# maximum = max(for dict1.items())\n",
        "# print(maximum)\n",
        "output = []\n",
        "for i in dict1.items():\n",
        "  output.append(dict1.keys())\n",
        "print(output)"
      ],
      "metadata": {
        "colab": {
          "base_uri": "https://localhost:8080/",
          "height": 232
        },
        "id": "4BIKv1EQiNpw",
        "outputId": "751032e4-f9b2-42e4-a269-b62406902ead"
      },
      "execution_count": null,
      "outputs": [
        {
          "output_type": "error",
          "ename": "AttributeError",
          "evalue": "ignored",
          "traceback": [
            "\u001b[0;31m---------------------------------------------------------------------------\u001b[0m",
            "\u001b[0;31mAttributeError\u001b[0m                            Traceback (most recent call last)",
            "\u001b[0;32m<ipython-input-19-35203992f516>\u001b[0m in \u001b[0;36m<cell line: 5>\u001b[0;34m()\u001b[0m\n\u001b[1;32m      4\u001b[0m \u001b[0moutput\u001b[0m \u001b[0;34m=\u001b[0m \u001b[0;34m[\u001b[0m\u001b[0;34m]\u001b[0m\u001b[0;34m\u001b[0m\u001b[0;34m\u001b[0m\u001b[0m\n\u001b[1;32m      5\u001b[0m \u001b[0;32mfor\u001b[0m \u001b[0mi\u001b[0m \u001b[0;32min\u001b[0m \u001b[0mdict1\u001b[0m\u001b[0;34m.\u001b[0m\u001b[0mitems\u001b[0m\u001b[0;34m(\u001b[0m\u001b[0;34m)\u001b[0m\u001b[0;34m:\u001b[0m\u001b[0;34m\u001b[0m\u001b[0;34m\u001b[0m\u001b[0m\n\u001b[0;32m----> 6\u001b[0;31m   \u001b[0moutput\u001b[0m\u001b[0;34m.\u001b[0m\u001b[0mappend\u001b[0m\u001b[0;34m(\u001b[0m\u001b[0mdict1\u001b[0m\u001b[0;34m.\u001b[0m\u001b[0mvalue\u001b[0m\u001b[0;34m(\u001b[0m\u001b[0;34m)\u001b[0m\u001b[0;34m)\u001b[0m\u001b[0;34m\u001b[0m\u001b[0;34m\u001b[0m\u001b[0m\n\u001b[0m\u001b[1;32m      7\u001b[0m \u001b[0mprint\u001b[0m\u001b[0;34m(\u001b[0m\u001b[0moutput\u001b[0m\u001b[0;34m)\u001b[0m\u001b[0;34m\u001b[0m\u001b[0;34m\u001b[0m\u001b[0m\n",
            "\u001b[0;31mAttributeError\u001b[0m: 'dict' object has no attribute 'value'"
          ]
        }
      ]
    },
    {
      "cell_type": "markdown",
      "source": [
        "**Balanced Parentheses**"
      ],
      "metadata": {
        "id": "PHKsn4qbOnTe"
      }
    },
    {
      "cell_type": "code",
      "source": [
        "string = \"([)]\""
      ],
      "metadata": {
        "id": "Ho_nSGoXO_qz"
      },
      "execution_count": 51,
      "outputs": []
    },
    {
      "cell_type": "code",
      "source": [
        "def balancedParantheses(string):\n",
        "  bracketDict = {\")\": \"(\", \"]\": \"[\", \"}\": \"{\"}\n",
        "  stack = []\n",
        "  for bracket in string:\n",
        "    if bracket in \"{[(\":\n",
        "      stack.append(bracket)\n",
        "    elif bracket in \")}]\":\n",
        "      if not stack or bracketDict[bracket] != stack[-1]:\n",
        "        return False\n",
        "      stack.pop()\n",
        "  return len(stack) == 0\n",
        "balancedParantheses(string)\n"
      ],
      "metadata": {
        "colab": {
          "base_uri": "https://localhost:8080/"
        },
        "id": "7efXdacEOmxw",
        "outputId": "49a48bbb-f517-438e-a312-9ba7871441a2"
      },
      "execution_count": 52,
      "outputs": [
        {
          "output_type": "execute_result",
          "data": {
            "text/plain": [
              "False"
            ]
          },
          "metadata": {},
          "execution_count": 52
        }
      ]
    },
    {
      "cell_type": "code",
      "source": [
        "stack = [1, 2, 1, 2]\n",
        "bracketDict = {\")\": \"(\", \"]\": \"[\", \"}\": \"{\"}\n",
        "print(bracketDict[\")\"])\n",
        "stack.remove(2)\n",
        "print(stack)"
      ],
      "metadata": {
        "colab": {
          "base_uri": "https://localhost:8080/"
        },
        "id": "wFlX4PvkQKt6",
        "outputId": "9fc96aee-673a-45e4-c42f-b57701da96d9"
      },
      "execution_count": 39,
      "outputs": [
        {
          "output_type": "stream",
          "name": "stdout",
          "text": [
            "(\n",
            "[1, 1, 2]\n"
          ]
        }
      ]
    },
    {
      "cell_type": "markdown",
      "source": [
        "**Problem 2: Next Greater Element**"
      ],
      "metadata": {
        "id": "ntmXw5_qnKTY"
      }
    },
    {
      "cell_type": "code",
      "source": [
        "input = [4, 5, 2, 25] # Output: {4: 5, 5: 25, 2: 25, 25: -1}"
      ],
      "metadata": {
        "id": "M0u-UKebnYDI"
      },
      "execution_count": 58,
      "outputs": []
    },
    {
      "cell_type": "code",
      "source": [
        "input = [4, 5, 2, 25]\n",
        "# 4,  5,  2, 25\n",
        "# 5, 25, 25, -1\n",
        "# 4,  5,  5, 25\n",
        "# 25  25  25  25"
      ],
      "metadata": {
        "id": "Gebe4ZjDxXSQ"
      },
      "execution_count": null,
      "outputs": []
    },
    {
      "cell_type": "code",
      "source": [
        "input = [13, 7, 6, 12] # → Output: {13: -1, 7: 12, 6: 12, 12: -1}"
      ],
      "metadata": {
        "id": "BP68O4nUQiqr"
      },
      "execution_count": 62,
      "outputs": []
    },
    {
      "cell_type": "code",
      "source": [
        "def nextGreaterElement(input):\n",
        "    newArray = [-1 for num in input]\n",
        "\n",
        "    for idx, num in enumerate(input):\n",
        "        print(\"num, idx\", num, idx)\n",
        "        nextNumIdx = idx + 1\n",
        "        while nextNumIdx < len(input):\n",
        "          if input[nextNumIdx] > num:\n",
        "            newArray[idx] = input[nextNumIdx]\n",
        "            break\n",
        "          else:\n",
        "            nextNumIdx += 1\n",
        "    return newArray\n",
        "nextGreaterElement(input)"
      ],
      "metadata": {
        "colab": {
          "base_uri": "https://localhost:8080/"
        },
        "id": "bCwi_0DGnvK7",
        "outputId": "e0a7eb1c-e7a4-4494-fb00-4d9cc42248e8"
      },
      "execution_count": 63,
      "outputs": [
        {
          "output_type": "stream",
          "name": "stdout",
          "text": [
            "num, idx 13 0\n",
            "num, idx 7 1\n",
            "num, idx 6 2\n",
            "num, idx 12 3\n"
          ]
        },
        {
          "output_type": "execute_result",
          "data": {
            "text/plain": [
              "[-1, 12, 12, -1]"
            ]
          },
          "metadata": {},
          "execution_count": 63
        }
      ]
    },
    {
      "cell_type": "code",
      "source": [
        "def nextGreaterElement(nums):\n",
        "    result = [-1] * len(nums)  # Initialize the result array with -1\n",
        "    stack = []  # This will store indices\n",
        "\n",
        "    for i, num in enumerate(nums):\n",
        "        while stack and nums[stack[-1]] < num:\n",
        "            prev_index = stack.pop()\n",
        "            result[prev_index] = num\n",
        "        stack.append(i)\n",
        "\n",
        "    return result\n",
        "\n",
        "# Example usage\n",
        "input_array = [4, 5, 2, 25]\n",
        "print(nextGreaterElement(input_array))  # Output: [5, 25, 25, -1]\n"
      ],
      "metadata": {
        "id": "bPJbfOK6q5Rr"
      },
      "execution_count": null,
      "outputs": []
    }
  ]
}